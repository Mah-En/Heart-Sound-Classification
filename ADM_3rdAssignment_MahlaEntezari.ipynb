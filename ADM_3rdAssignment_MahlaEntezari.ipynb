{
  "cells": [
    {
      "cell_type": "markdown",
      "metadata": {
        "id": "vQgL4gJGYXa0"
      },
      "source": [
        "# Data Mining - 3rd Assignment\n",
        "# Mahla Entezari"
      ]
    },
    {
      "cell_type": "markdown",
      "metadata": {
        "id": "mZwKxePIYgxI"
      },
      "source": [
        "# Part 1"
      ]
    },
    {
      "cell_type": "markdown",
      "metadata": {
        "id": "wy_fYJBqYnCM"
      },
      "source": [
        "### 1.\n",
        "Sampling from the \\( q(z|x) \\) distribution in **Variational Autoencoders (VAEs)** poses two main problems:\n",
        "\n",
        "1. **Non-Differentiability:** Direct sampling involves a stochastic operation that breaks the flow of gradients, preventing effective backpropagation.\n",
        "\n",
        "2. **High Variance Gradients:** Even with gradient estimations, the variability can lead to unstable and inefficient training.\n",
        "\n",
        "The **reparameterization trick** addresses these issues by rewriting the sampling process as:\n",
        "\\[ z = \\mu(x) + \\sigma(x) \\cdot \\epsilon \\]\n",
        "where \\( \\epsilon \\) is noise from a standard normal distribution. This transformation makes the operation differentiable, allowing gradients to pass through \\( \\mu(x) \\) and \\( \\sigma(x) \\) smoothly. As a result, VAEs can be trained more effectively with stable and lower-variance gradient estimates.\n",
        "\n",
        "\n",
        "### 2.\n",
        "The hyperparameter **β** in Variational Autoencoders controls the balance between reconstruction accuracy and disentanglement.\n",
        "\n",
        "- **Higher β (>1):** Emphasizes the KL divergence, promoting disentangled latent representations but may reduce reconstruction quality.\n",
        "- **Lower β (<1):** Focuses on reconstruction accuracy, capturing more detailed information but resulting in less disentangled factors.\n",
        "- **β = 1:** Balances both reconstruction and disentanglement, providing a trade-off between accurate data reconstruction and structured latent space.\n",
        "\n",
        "\n",
        "\n",
        "\n",
        "### 3.\n",
        "**Peephole connections** allow LSTM gates to access the cell state directly, enhancing the network's ability to regulate information flow and maintain the cell state more effectively. This direct access enables better control over forgetting and output mechanisms, improving the learning of temporal dependencies. However, peephole connections introduce additional parameters, increasing computational complexity and the risk of overfitting, especially with limited data. They may also offer minimal benefits for tasks with simpler temporal structures where standard LSTMs perform adequately. Thus, while peephole connections can enhance performance in complex scenarios, they might not be advantageous in all applications.\n",
        "\n",
        "\n",
        "\n",
        "\n",
        "### 4.\n",
        "**xLSTM** is an enhanced variant of the standard **Long Short-Term Memory (LSTM)** network, incorporating features like **attention mechanisms**, **residual connections**, and **bidirectional processing**. These additions enable xLSTM to better capture long-term dependencies, improve gradient flow, and understand context from both past and future states. Compared to standard LSTMs, xLSTM offers **greater expressiveness** and **stability during training**, effectively addressing issues like vanishing gradients and limited context comprehension. These advancements make xLSTM more adept at handling complex sequential tasks, such as natural language processing and time-series forecasting.\n",
        "\n"
      ]
    },
    {
      "cell_type": "markdown",
      "metadata": {
        "id": "DudL5CxsYeMU"
      },
      "source": [
        "# Part 2"
      ]
    },
    {
      "cell_type": "code",
      "execution_count": 74,
      "metadata": {
        "id": "bN4Ato_W_NfF"
      },
      "outputs": [],
      "source": [
        "# import kagglehub\n",
        "# kagglehub.login()"
      ]
    },
    {
      "cell_type": "code",
      "execution_count": 75,
      "metadata": {
        "colab": {
          "base_uri": "https://localhost:8080/"
        },
        "id": "jBzPM9JA_FNV",
        "outputId": "1f712fe6-3286-4753-d4b7-1cf64dc015a8"
      },
      "outputs": [
        {
          "name": "stdout",
          "output_type": "stream",
          "text": [
            "Warning: Looks like you're using an outdated `kagglehub` version (installed: 0.3.5), please consider upgrading to the latest version (0.3.6).\n",
            "Warning: Looks like you're using an outdated `kagglehub` version (installed: 0.3.5), please consider upgrading to the latest version (0.3.6).\n",
            "Warning: Looks like you're using an outdated `kagglehub` version (installed: 0.3.5), please consider upgrading to the latest version (0.3.6).\n"
          ]
        }
      ],
      "source": [
        "heartbeat_sound_path = kagglehub.dataset_download('abdallahaboelkhair/heartbeat-sound')\n",
        "heartbeat_sounds_path = kagglehub.dataset_download('kinguistics/heartbeat-sounds')\n",
        "set_a_b_path = kagglehub.dataset_download('mahlaentezari/set-a-b')"
      ]
    },
    {
      "cell_type": "code",
      "execution_count": 76,
      "metadata": {
        "colab": {
          "base_uri": "https://localhost:8080/"
        },
        "id": "wJrwd7UfJEOQ",
        "outputId": "4530038d-7c0d-43f8-d9df-2827576dd682"
      },
      "outputs": [
        {
          "name": "stdout",
          "output_type": "stream",
          "text": [
            "Requirement already satisfied: PyWavelets in /usr/local/lib/python3.10/dist-packages (1.8.0)\n",
            "Requirement already satisfied: numpy<3,>=1.23 in /usr/local/lib/python3.10/dist-packages (from PyWavelets) (1.26.4)\n"
          ]
        }
      ],
      "source": [
        "pip install PyWavelets"
      ]
    },
    {
      "cell_type": "code",
      "execution_count": 77,
      "metadata": {
        "id": "7V19hTpu2Sbl"
      },
      "outputs": [],
      "source": [
        "import os\n",
        "import wave\n",
        "import numpy as np\n",
        "import pandas as pd\n",
        "import librosa\n",
        "import pickle\n",
        "import pywt\n",
        "import matplotlib.pyplot as plt\n",
        "import scipy.signal as signal\n",
        "from scipy.signal import butter, filtfilt, lfilter\n",
        "import warnings\n",
        "import tensorflow as tf\n",
        "from tensorflow.keras.layers import Input, Dense, Conv2D, MaxPooling2D, Flatten, TimeDistributed, LSTM, GRU, Bidirectional, Dropout\n",
        "from tensorflow.keras.models import Model\n",
        "from tensorflow.keras.layers import Attention\n",
        "from sklearn.preprocessing import MinMaxScaler\n",
        "from sklearn.metrics import accuracy_score, precision_score, recall_score, f1_score, confusion_matrix\n",
        "from tensorflow.keras.layers import Attention, Dense, LSTM, GRU, Bidirectional, TimeDistributed, Dropout, Input\n",
        "from tensorflow.keras.models import Model\n",
        "from tensorflow.keras.callbacks import LearningRateScheduler, ModelCheckpoint, EarlyStopping\n",
        "from sklearn.model_selection import train_test_split\n",
        "from sklearn.metrics import accuracy_score, classification_report, confusion_matrix\n",
        "import torch\n",
        "import torch.nn as nn\n",
        "import torch.optim as optim\n",
        "from torch.utils.data import DataLoader, Dataset\n",
        "from scipy.signal import resample\n",
        "# Audio processing\n",
        "import librosa\n",
        "import librosa.display\n",
        "import random\n",
        "warnings.filterwarnings('ignore')"
      ]
    },
    {
      "cell_type": "markdown",
      "metadata": {
        "id": "NDMaM830-xCk"
      },
      "source": [
        "################################################################################\n",
        "### - Classify heart sounds into:\n",
        "###   1. Normal\n",
        "###   2. Murmur\n",
        "###   3. Extra Heart Sound\n",
        "###   4. Artifact\n",
        "###   5. Extrasystole\n",
        "#\n",
        "### - Steps:\n",
        "###   1. Preprocessing (denoising, resampling, segmentation, normalization)\n",
        "###   2. Convert audio signals to features (e.g., log-Mel Spectrogram or MFCC)\n",
        "###  3. Build CNN + RNN-based models (Simple RNN, LSTM, Bi-LSTM, xLSTM, GRU)\n",
        "###   4. Compare performance (Accuracy, Precision, Recall, F1-Score, Confusion Matrix)\n",
        "###   5. Bonus: Add a soft Attention mechanism in LSTM\n",
        "\n",
        "################################################################################\n",
        "\n",
        "################################################################################\n",
        "# 1. ENVIRONMENT SETUP & LIBRARIES\n",
        "################################################################################\n"
      ]
    },
    {
      "cell_type": "code",
      "execution_count": 78,
      "metadata": {
        "colab": {
          "base_uri": "https://localhost:8080/"
        },
        "id": "XG_xTzbG-8WA",
        "outputId": "e5b81e79-d785-4ebf-e836-15aa8ec2ea28"
      },
      "outputs": [
        {
          "name": "stdout",
          "output_type": "stream",
          "text": [
            "Using device: cpu\n"
          ]
        }
      ],
      "source": [
        "SEED = 42\n",
        "random.seed(SEED)\n",
        "np.random.seed(SEED)\n",
        "torch.manual_seed(SEED)\n",
        "if torch.cuda.is_available():\n",
        "    torch.cuda.manual_seed_all(SEED)\n",
        "\n",
        "device = torch.device('cuda' if torch.cuda.is_available() else 'cpu')\n",
        "print(f\"Using device: {device}\")"
      ]
    },
    {
      "cell_type": "markdown",
      "metadata": {
        "id": "WL4GZ4B3AP3F"
      },
      "source": [
        "\n",
        "\n",
        "################################################################################\n",
        "# 2. DATA LOADING\n",
        "################################################################################"
      ]
    },
    {
      "cell_type": "code",
      "execution_count": 79,
      "metadata": {
        "id": "lyrXu-yxBAGr"
      },
      "outputs": [],
      "source": [
        "def bandpass_filter(data, lowcut, highcut, fs, order=5):\n",
        "    nyquist = 0.5 * fs\n",
        "    low = lowcut / nyquist\n",
        "    high = highcut / nyquist\n",
        "    b, a = butter(order, [low, high], btype='band')\n",
        "    y = lfilter(b, a, data)\n",
        "    return y\n",
        "\n",
        "\n",
        "def normalize_signal(signal):\n",
        "    return (signal - np.min(signal)) / (np.max(signal) - np.min(signal))\n",
        "\n",
        "\n",
        "\n",
        "def load_audio_from_folder(folder_path, label):\n",
        "    audio_data = []\n",
        "    for filename in os.listdir(folder_path):\n",
        "        if filename.endswith('.wav'):\n",
        "            full_path = os.path.join(folder_path, filename)\n",
        "            signal, sr = librosa.load(full_path, sr=None)\n",
        "            duration = len(signal) / sr\n",
        "\n",
        "            filtered_signal = bandpass_filter(signal, lowcut=20, highcut=200, fs=sr)\n",
        "            normalized_signal = normalize_signal(filtered_signal)\n",
        "\n",
        "            audio_data.append({\n",
        "                'filename': full_path,\n",
        "                'signal': normalized_signal,\n",
        "                'sampling_rate': sr,\n",
        "                'duration': duration,\n",
        "                'label': label\n",
        "            })\n",
        "    return audio_data\n",
        "\n",
        "artifact_path = heartbeat_sound_path+'/Heartbeat_Sound/artifact'\n",
        "artifact_audio = load_audio_from_folder(artifact_path, 'artifact')\n",
        "df_artifact = pd.DataFrame(artifact_audio)\n",
        "\n",
        "extrahls_path = heartbeat_sound_path+'/Heartbeat_Sound/extrahls'\n",
        "extrahls_audio = load_audio_from_folder(extrahls_path, 'extrahls')\n",
        "df_extrahls = pd.DataFrame(extrahls_audio)\n",
        "\n",
        "extrastole_path = heartbeat_sound_path+'/Heartbeat_Sound/extrastole'\n",
        "extrastole_audio = load_audio_from_folder(extrastole_path, 'extrastole')\n",
        "df_extrastole = pd.DataFrame(extrastole_audio)\n",
        "\n",
        "murmur_path = heartbeat_sound_path+'/Heartbeat_Sound/murmur'\n",
        "murmur_audio = load_audio_from_folder(murmur_path, 'murmur')\n",
        "df_murmur = pd.DataFrame(murmur_audio)\n",
        "\n",
        "normal_path = heartbeat_sound_path+'/Heartbeat_Sound/normal'\n",
        "normal_audio = load_audio_from_folder(normal_path, 'normal')\n",
        "df_normal = pd.DataFrame(normal_audio)\n",
        "\n",
        "df = pd.concat([df_artifact,df_murmur, df_normal, df_extrastole, df_extrahls], ignore_index=True)\n",
        "\n",
        "# unlabel_path = '/kaggle/input/heartbeat-sound/Heartbeat_Sound/unlabel'\n",
        "# unlabel_audio = load_audio_from_folder(unlabel_path, 'unlabel')\n",
        "# df_test = pd.DataFrame(unlabel_audio)\n",
        "\n",
        "# In a real scenario, you might load from a CSV:\n",
        "# df = pd.read_csv(\"pascal_heart_data.csv\")"
      ]
    },
    {
      "cell_type": "code",
      "execution_count": 80,
      "metadata": {
        "colab": {
          "base_uri": "https://localhost:8080/",
          "height": 206
        },
        "id": "32M9qw-eD7It",
        "outputId": "47e39bfb-51a0-4e9a-d893-6ef6caa17469"
      },
      "outputs": [
        {
          "data": {
            "application/vnd.google.colaboratory.intrinsic+json": {
              "summary": "{\n  \"name\": \"df_normal\",\n  \"rows\": 351,\n  \"fields\": [\n    {\n      \"column\": \"filename\",\n      \"properties\": {\n        \"dtype\": \"string\",\n        \"num_unique_values\": 351,\n        \"samples\": [\n          \"/root/.cache/kagglehub/datasets/abdallahaboelkhair/heartbeat-sound/versions/1/Heartbeat_Sound/normal/normal__151_1306779785624_A.wav\",\n          \"/root/.cache/kagglehub/datasets/abdallahaboelkhair/heartbeat-sound/versions/1/Heartbeat_Sound/normal/normal__184_1308073010307_B.wav\",\n          \"/root/.cache/kagglehub/datasets/abdallahaboelkhair/heartbeat-sound/versions/1/Heartbeat_Sound/normal/normal_noisynormal_264_1309356143724_D.wav\"\n        ],\n        \"semantic_type\": \"\",\n        \"description\": \"\"\n      }\n    },\n    {\n      \"column\": \"signal\",\n      \"properties\": {\n        \"dtype\": \"object\",\n        \"semantic_type\": \"\",\n        \"description\": \"\"\n      }\n    },\n    {\n      \"column\": \"sampling_rate\",\n      \"properties\": {\n        \"dtype\": \"number\",\n        \"std\": 11394,\n        \"min\": 4000,\n        \"max\": 44100,\n        \"num_unique_values\": 2,\n        \"samples\": [\n          44100,\n          4000\n        ],\n        \"semantic_type\": \"\",\n        \"description\": \"\"\n      }\n    },\n    {\n      \"column\": \"duration\",\n      \"properties\": {\n        \"dtype\": \"number\",\n        \"std\": 4.348083634380432,\n        \"min\": 0.76325,\n        \"max\": 27.867,\n        \"num_unique_values\": 329,\n        \"samples\": [\n          4.43475,\n          16.5555\n        ],\n        \"semantic_type\": \"\",\n        \"description\": \"\"\n      }\n    },\n    {\n      \"column\": \"label\",\n      \"properties\": {\n        \"dtype\": \"category\",\n        \"num_unique_values\": 1,\n        \"samples\": [\n          \"normal\"\n        ],\n        \"semantic_type\": \"\",\n        \"description\": \"\"\n      }\n    }\n  ]\n}",
              "type": "dataframe",
              "variable_name": "df_normal"
            },
            "text/html": [
              "\n",
              "  <div id=\"df-626af505-4ea7-43ca-8891-6d2283f51362\" class=\"colab-df-container\">\n",
              "    <div>\n",
              "<style scoped>\n",
              "    .dataframe tbody tr th:only-of-type {\n",
              "        vertical-align: middle;\n",
              "    }\n",
              "\n",
              "    .dataframe tbody tr th {\n",
              "        vertical-align: top;\n",
              "    }\n",
              "\n",
              "    .dataframe thead th {\n",
              "        text-align: right;\n",
              "    }\n",
              "</style>\n",
              "<table border=\"1\" class=\"dataframe\">\n",
              "  <thead>\n",
              "    <tr style=\"text-align: right;\">\n",
              "      <th></th>\n",
              "      <th>filename</th>\n",
              "      <th>signal</th>\n",
              "      <th>sampling_rate</th>\n",
              "      <th>duration</th>\n",
              "      <th>label</th>\n",
              "    </tr>\n",
              "  </thead>\n",
              "  <tbody>\n",
              "    <tr>\n",
              "      <th>0</th>\n",
              "      <td>/root/.cache/kagglehub/datasets/abdallahaboelk...</td>\n",
              "      <td>[0.3987721283631676, 0.3987729749200531, 0.398...</td>\n",
              "      <td>4000</td>\n",
              "      <td>8.99650</td>\n",
              "      <td>normal</td>\n",
              "    </tr>\n",
              "    <tr>\n",
              "      <th>1</th>\n",
              "      <td>/root/.cache/kagglehub/datasets/abdallahaboelk...</td>\n",
              "      <td>[0.35924353138354576, 0.35924015141422866, 0.3...</td>\n",
              "      <td>4000</td>\n",
              "      <td>5.71025</td>\n",
              "      <td>normal</td>\n",
              "    </tr>\n",
              "    <tr>\n",
              "      <th>2</th>\n",
              "      <td>/root/.cache/kagglehub/datasets/abdallahaboelk...</td>\n",
              "      <td>[0.5355459243180859, 0.5355466965172326, 0.535...</td>\n",
              "      <td>4000</td>\n",
              "      <td>14.51825</td>\n",
              "      <td>normal</td>\n",
              "    </tr>\n",
              "    <tr>\n",
              "      <th>3</th>\n",
              "      <td>/root/.cache/kagglehub/datasets/abdallahaboelk...</td>\n",
              "      <td>[0.5467087561697686, 0.5467062281646048, 0.546...</td>\n",
              "      <td>4000</td>\n",
              "      <td>4.44175</td>\n",
              "      <td>normal</td>\n",
              "    </tr>\n",
              "    <tr>\n",
              "      <th>4</th>\n",
              "      <td>/root/.cache/kagglehub/datasets/abdallahaboelk...</td>\n",
              "      <td>[0.5920133500722005, 0.5920093145221711, 0.591...</td>\n",
              "      <td>4000</td>\n",
              "      <td>2.72850</td>\n",
              "      <td>normal</td>\n",
              "    </tr>\n",
              "  </tbody>\n",
              "</table>\n",
              "</div>\n",
              "    <div class=\"colab-df-buttons\">\n",
              "\n",
              "  <div class=\"colab-df-container\">\n",
              "    <button class=\"colab-df-convert\" onclick=\"convertToInteractive('df-626af505-4ea7-43ca-8891-6d2283f51362')\"\n",
              "            title=\"Convert this dataframe to an interactive table.\"\n",
              "            style=\"display:none;\">\n",
              "\n",
              "  <svg xmlns=\"http://www.w3.org/2000/svg\" height=\"24px\" viewBox=\"0 -960 960 960\">\n",
              "    <path d=\"M120-120v-720h720v720H120Zm60-500h600v-160H180v160Zm220 220h160v-160H400v160Zm0 220h160v-160H400v160ZM180-400h160v-160H180v160Zm440 0h160v-160H620v160ZM180-180h160v-160H180v160Zm440 0h160v-160H620v160Z\"/>\n",
              "  </svg>\n",
              "    </button>\n",
              "\n",
              "  <style>\n",
              "    .colab-df-container {\n",
              "      display:flex;\n",
              "      gap: 12px;\n",
              "    }\n",
              "\n",
              "    .colab-df-convert {\n",
              "      background-color: #E8F0FE;\n",
              "      border: none;\n",
              "      border-radius: 50%;\n",
              "      cursor: pointer;\n",
              "      display: none;\n",
              "      fill: #1967D2;\n",
              "      height: 32px;\n",
              "      padding: 0 0 0 0;\n",
              "      width: 32px;\n",
              "    }\n",
              "\n",
              "    .colab-df-convert:hover {\n",
              "      background-color: #E2EBFA;\n",
              "      box-shadow: 0px 1px 2px rgba(60, 64, 67, 0.3), 0px 1px 3px 1px rgba(60, 64, 67, 0.15);\n",
              "      fill: #174EA6;\n",
              "    }\n",
              "\n",
              "    .colab-df-buttons div {\n",
              "      margin-bottom: 4px;\n",
              "    }\n",
              "\n",
              "    [theme=dark] .colab-df-convert {\n",
              "      background-color: #3B4455;\n",
              "      fill: #D2E3FC;\n",
              "    }\n",
              "\n",
              "    [theme=dark] .colab-df-convert:hover {\n",
              "      background-color: #434B5C;\n",
              "      box-shadow: 0px 1px 3px 1px rgba(0, 0, 0, 0.15);\n",
              "      filter: drop-shadow(0px 1px 2px rgba(0, 0, 0, 0.3));\n",
              "      fill: #FFFFFF;\n",
              "    }\n",
              "  </style>\n",
              "\n",
              "    <script>\n",
              "      const buttonEl =\n",
              "        document.querySelector('#df-626af505-4ea7-43ca-8891-6d2283f51362 button.colab-df-convert');\n",
              "      buttonEl.style.display =\n",
              "        google.colab.kernel.accessAllowed ? 'block' : 'none';\n",
              "\n",
              "      async function convertToInteractive(key) {\n",
              "        const element = document.querySelector('#df-626af505-4ea7-43ca-8891-6d2283f51362');\n",
              "        const dataTable =\n",
              "          await google.colab.kernel.invokeFunction('convertToInteractive',\n",
              "                                                    [key], {});\n",
              "        if (!dataTable) return;\n",
              "\n",
              "        const docLinkHtml = 'Like what you see? Visit the ' +\n",
              "          '<a target=\"_blank\" href=https://colab.research.google.com/notebooks/data_table.ipynb>data table notebook</a>'\n",
              "          + ' to learn more about interactive tables.';\n",
              "        element.innerHTML = '';\n",
              "        dataTable['output_type'] = 'display_data';\n",
              "        await google.colab.output.renderOutput(dataTable, element);\n",
              "        const docLink = document.createElement('div');\n",
              "        docLink.innerHTML = docLinkHtml;\n",
              "        element.appendChild(docLink);\n",
              "      }\n",
              "    </script>\n",
              "  </div>\n",
              "\n",
              "\n",
              "<div id=\"df-6b296dab-a429-4b37-aab9-1c62e09363b7\">\n",
              "  <button class=\"colab-df-quickchart\" onclick=\"quickchart('df-6b296dab-a429-4b37-aab9-1c62e09363b7')\"\n",
              "            title=\"Suggest charts\"\n",
              "            style=\"display:none;\">\n",
              "\n",
              "<svg xmlns=\"http://www.w3.org/2000/svg\" height=\"24px\"viewBox=\"0 0 24 24\"\n",
              "     width=\"24px\">\n",
              "    <g>\n",
              "        <path d=\"M19 3H5c-1.1 0-2 .9-2 2v14c0 1.1.9 2 2 2h14c1.1 0 2-.9 2-2V5c0-1.1-.9-2-2-2zM9 17H7v-7h2v7zm4 0h-2V7h2v10zm4 0h-2v-4h2v4z\"/>\n",
              "    </g>\n",
              "</svg>\n",
              "  </button>\n",
              "\n",
              "<style>\n",
              "  .colab-df-quickchart {\n",
              "      --bg-color: #E8F0FE;\n",
              "      --fill-color: #1967D2;\n",
              "      --hover-bg-color: #E2EBFA;\n",
              "      --hover-fill-color: #174EA6;\n",
              "      --disabled-fill-color: #AAA;\n",
              "      --disabled-bg-color: #DDD;\n",
              "  }\n",
              "\n",
              "  [theme=dark] .colab-df-quickchart {\n",
              "      --bg-color: #3B4455;\n",
              "      --fill-color: #D2E3FC;\n",
              "      --hover-bg-color: #434B5C;\n",
              "      --hover-fill-color: #FFFFFF;\n",
              "      --disabled-bg-color: #3B4455;\n",
              "      --disabled-fill-color: #666;\n",
              "  }\n",
              "\n",
              "  .colab-df-quickchart {\n",
              "    background-color: var(--bg-color);\n",
              "    border: none;\n",
              "    border-radius: 50%;\n",
              "    cursor: pointer;\n",
              "    display: none;\n",
              "    fill: var(--fill-color);\n",
              "    height: 32px;\n",
              "    padding: 0;\n",
              "    width: 32px;\n",
              "  }\n",
              "\n",
              "  .colab-df-quickchart:hover {\n",
              "    background-color: var(--hover-bg-color);\n",
              "    box-shadow: 0 1px 2px rgba(60, 64, 67, 0.3), 0 1px 3px 1px rgba(60, 64, 67, 0.15);\n",
              "    fill: var(--button-hover-fill-color);\n",
              "  }\n",
              "\n",
              "  .colab-df-quickchart-complete:disabled,\n",
              "  .colab-df-quickchart-complete:disabled:hover {\n",
              "    background-color: var(--disabled-bg-color);\n",
              "    fill: var(--disabled-fill-color);\n",
              "    box-shadow: none;\n",
              "  }\n",
              "\n",
              "  .colab-df-spinner {\n",
              "    border: 2px solid var(--fill-color);\n",
              "    border-color: transparent;\n",
              "    border-bottom-color: var(--fill-color);\n",
              "    animation:\n",
              "      spin 1s steps(1) infinite;\n",
              "  }\n",
              "\n",
              "  @keyframes spin {\n",
              "    0% {\n",
              "      border-color: transparent;\n",
              "      border-bottom-color: var(--fill-color);\n",
              "      border-left-color: var(--fill-color);\n",
              "    }\n",
              "    20% {\n",
              "      border-color: transparent;\n",
              "      border-left-color: var(--fill-color);\n",
              "      border-top-color: var(--fill-color);\n",
              "    }\n",
              "    30% {\n",
              "      border-color: transparent;\n",
              "      border-left-color: var(--fill-color);\n",
              "      border-top-color: var(--fill-color);\n",
              "      border-right-color: var(--fill-color);\n",
              "    }\n",
              "    40% {\n",
              "      border-color: transparent;\n",
              "      border-right-color: var(--fill-color);\n",
              "      border-top-color: var(--fill-color);\n",
              "    }\n",
              "    60% {\n",
              "      border-color: transparent;\n",
              "      border-right-color: var(--fill-color);\n",
              "    }\n",
              "    80% {\n",
              "      border-color: transparent;\n",
              "      border-right-color: var(--fill-color);\n",
              "      border-bottom-color: var(--fill-color);\n",
              "    }\n",
              "    90% {\n",
              "      border-color: transparent;\n",
              "      border-bottom-color: var(--fill-color);\n",
              "    }\n",
              "  }\n",
              "</style>\n",
              "\n",
              "  <script>\n",
              "    async function quickchart(key) {\n",
              "      const quickchartButtonEl =\n",
              "        document.querySelector('#' + key + ' button');\n",
              "      quickchartButtonEl.disabled = true;  // To prevent multiple clicks.\n",
              "      quickchartButtonEl.classList.add('colab-df-spinner');\n",
              "      try {\n",
              "        const charts = await google.colab.kernel.invokeFunction(\n",
              "            'suggestCharts', [key], {});\n",
              "      } catch (error) {\n",
              "        console.error('Error during call to suggestCharts:', error);\n",
              "      }\n",
              "      quickchartButtonEl.classList.remove('colab-df-spinner');\n",
              "      quickchartButtonEl.classList.add('colab-df-quickchart-complete');\n",
              "    }\n",
              "    (() => {\n",
              "      let quickchartButtonEl =\n",
              "        document.querySelector('#df-6b296dab-a429-4b37-aab9-1c62e09363b7 button');\n",
              "      quickchartButtonEl.style.display =\n",
              "        google.colab.kernel.accessAllowed ? 'block' : 'none';\n",
              "    })();\n",
              "  </script>\n",
              "</div>\n",
              "\n",
              "    </div>\n",
              "  </div>\n"
            ],
            "text/plain": [
              "                                            filename  \\\n",
              "0  /root/.cache/kagglehub/datasets/abdallahaboelk...   \n",
              "1  /root/.cache/kagglehub/datasets/abdallahaboelk...   \n",
              "2  /root/.cache/kagglehub/datasets/abdallahaboelk...   \n",
              "3  /root/.cache/kagglehub/datasets/abdallahaboelk...   \n",
              "4  /root/.cache/kagglehub/datasets/abdallahaboelk...   \n",
              "\n",
              "                                              signal  sampling_rate  duration  \\\n",
              "0  [0.3987721283631676, 0.3987729749200531, 0.398...           4000   8.99650   \n",
              "1  [0.35924353138354576, 0.35924015141422866, 0.3...           4000   5.71025   \n",
              "2  [0.5355459243180859, 0.5355466965172326, 0.535...           4000  14.51825   \n",
              "3  [0.5467087561697686, 0.5467062281646048, 0.546...           4000   4.44175   \n",
              "4  [0.5920133500722005, 0.5920093145221711, 0.591...           4000   2.72850   \n",
              "\n",
              "    label  \n",
              "0  normal  \n",
              "1  normal  \n",
              "2  normal  \n",
              "3  normal  \n",
              "4  normal  "
            ]
          },
          "execution_count": 80,
          "metadata": {},
          "output_type": "execute_result"
        }
      ],
      "source": [
        "df_normal.head()"
      ]
    },
    {
      "cell_type": "code",
      "execution_count": 81,
      "metadata": {
        "colab": {
          "base_uri": "https://localhost:8080/",
          "height": 391
        },
        "id": "gaBvwa5hKcnR",
        "outputId": "53c92030-ba46-4806-d758-a5b76f00e509"
      },
      "outputs": [
        {
          "data": {
            "image/png": "[encoded data removed]",
            "text/plain": [
              "<Figure size 800x400 with 1 Axes>"
            ]
          },
          "metadata": {},
          "output_type": "display_data"
        }
      ],
      "source": [
        "from matplotlib import pyplot as plt\n",
        "_df_4['duration'].plot(kind='line', figsize=(8, 4), title='duration')\n",
        "plt.gca().spines[['top', 'right']].set_visible(False)"
      ]
    },
    {
      "cell_type": "code",
      "execution_count": 82,
      "metadata": {
        "colab": {
          "base_uri": "https://localhost:8080/",
          "height": 452
        },
        "id": "fNGye2yyKaz1",
        "outputId": "273b0e6c-c584-49ae-de6c-fe820547e336"
      },
      "outputs": [
        {
          "data": {
            "image/png": "[encoded data removed]",
            "text/plain": [
              "<Figure size 640x480 with 1 Axes>"
            ]
          },
          "metadata": {},
          "output_type": "display_data"
        }
      ],
      "source": [
        "from matplotlib import pyplot as plt\n",
        "_df_0['duration'].plot(kind='hist', bins=20, title='duration')\n",
        "plt.gca().spines[['top', 'right',]].set_visible(False)"
      ]
    },
    {
      "cell_type": "markdown",
      "metadata": {
        "id": "JJ-f-X0qBMXD"
      },
      "source": [
        "\n",
        "################################################################################\n",
        "# 3. PREPROCESSING & FEATURE EXTRACTION\n",
        "################################################################################"
      ]
    },
    {
      "cell_type": "code",
      "execution_count": 83,
      "metadata": {
        "id": "e4zzijd4BQn5"
      },
      "outputs": [],
      "source": [
        "class HeartSoundDataset(Dataset):\n",
        "    def __init__(self, df, sr=4000, n_mfcc=40, transform=None):\n",
        "        self.df = df\n",
        "        self.labels = sorted(df['label'].unique())\n",
        "        self.label_to_idx = {lbl: idx for idx, lbl in enumerate(self.labels)}\n",
        "        self.sr = sr\n",
        "        self.n_mfcc = n_mfcc\n",
        "        self.transform = transform\n",
        "\n",
        "    def __len__(self):\n",
        "        return len(self.df)\n",
        "\n",
        "    def __getitem__(self, idx):\n",
        "        audio_path = self.df.iloc[idx]['filename']\n",
        "        # audio_path = \"/kaggle/input/heartbeat-sounds/\" + audio_path\n",
        "        label_str = self.df.iloc[idx]['label']\n",
        "        label = self.label_to_idx[label_str]\n",
        "\n",
        "        signal, orig_sr = librosa.load(audio_path, sr=None)\n",
        "        signal = self.denoise_signal(signal, orig_sr)\n",
        "\n",
        "        if orig_sr != self.sr:\n",
        "            num_samples = int(len(signal) * (self.sr / orig_sr))\n",
        "            signal = resample(signal, num_samples)\n",
        "\n",
        "        desired_length = 4 * self.sr\n",
        "        if len(signal) < desired_length:\n",
        "            pad_length = desired_length - len(signal)\n",
        "            signal = np.pad(signal, (0, pad_length))\n",
        "        else:\n",
        "            signal = signal[:desired_length]\n",
        "\n",
        "        mfcc = librosa.feature.mfcc(y=signal, sr=self.sr, n_mfcc=self.n_mfcc)\n",
        "        # mfcc shape -> (n_mfcc, time_frames)\n",
        "        mfcc_tensor = torch.tensor(mfcc, dtype=torch.float)\n",
        "        if self.transform:\n",
        "            mfcc_tensor = self.transform(mfcc_tensor)\n",
        "\n",
        "        return mfcc_tensor, torch.tensor(label, dtype=torch.long)\n",
        "\n",
        "    def denoise_signal(self, signal, sr):\n",
        "        wavelet_type = 'db4'\n",
        "        wavelet_level = 2\n",
        "\n",
        "        coeffs = pywt.wavedec(signal, wavelet_type, wavelet_level)\n",
        "        detail_coeffs = coeffs[-1]\n",
        "        median_dev = np.median(np.abs(detail_coeffs))\n",
        "        threshold = median_dev / 0.6745\n",
        "        new_coeffs = []\n",
        "        for i, c in enumerate(coeffs):\n",
        "            if i == 0:\n",
        "                new_coeffs.append(c)\n",
        "            else:\n",
        "                new_coeffs.append(pywt.threshold(c, threshold, mode='soft'))\n",
        "        denoised = pywt.waverec(new_coeffs, wavelet_type)\n",
        "        return denoised\n"
      ]
    },
    {
      "cell_type": "markdown",
      "metadata": {
        "id": "T5Is-_bRVFwE"
      },
      "source": [
        "I applied techniques like wavelet denoising or spectral gating to reduce background noise in the heart sound recordings.\n",
        "\n",
        "Heart recordings often contain unwanted noise (like breathing or ambient sounds). Removing this noise ensures the model focuses on the actual heart sounds.\n",
        "\n",
        "I converted all recordings to the same sampling rate (e.g., 4 kHz).\n",
        "\n",
        "Different recordings can have different sampling rates. Standardizing this ensures that all audio clips are comparable and compatible with the feature extraction process and the model.\n",
        "\n",
        "\n",
        "I made all audio clips the same length (e.g., 4 seconds). Shorter clips were padded with zeros.\n",
        "\n",
        "The model requires input of a fixed size. Padding or segmenting the recordings ensures the input dimensions remain consistent.\n",
        "\n",
        "I extracted **Mel-Frequency Cepstral Coefficients (MFCCs)** from the audio. These coefficients capture important patterns of the sound in a 2D format (similar to an image).\n",
        "\n",
        "MFCCs are widely used in audio analysis because they summarize frequency and time-based information effectively, which helps the model learn better.\n",
        "\n"
      ]
    },
    {
      "cell_type": "markdown",
      "metadata": {
        "id": "B_gjUMsNBR1i"
      },
      "source": [
        "################################################################################\n",
        "# 4. DATA SPLITTING\n",
        "################################################################################\n"
      ]
    },
    {
      "cell_type": "code",
      "execution_count": 84,
      "metadata": {
        "colab": {
          "base_uri": "https://localhost:8080/",
          "height": 487
        },
        "id": "Z_uKjENgXJ2Z",
        "outputId": "5b4e1d07-2e74-4121-ee35-e5d9294641d5"
      },
      "outputs": [
        {
          "data": {
            "image/png": "[encoded data removed]",
            "text/plain": [
              "<Figure size 800x500 with 1 Axes>"
            ]
          },
          "metadata": {},
          "output_type": "display_data"
        }
      ],
      "source": [
        "# Audio Duration Distribution\n",
        "plt.figure(figsize=(8, 5))\n",
        "df['duration'].plot(kind='hist', bins=10, color='orange', edgecolor='black')\n",
        "plt.title('Distribution of Audio Durations')\n",
        "plt.xlabel('Duration (seconds)')\n",
        "plt.ylabel('Frequency')\n",
        "plt.show()"
      ]
    },
    {
      "cell_type": "code",
      "execution_count": 85,
      "metadata": {
        "colab": {
          "base_uri": "https://localhost:8080/"
        },
        "id": "mmnxdNhQBapj",
        "outputId": "43218fb9-cc67-42c0-c3af-6cf9a936e4aa"
      },
      "outputs": [
        {
          "name": "stdout",
          "output_type": "stream",
          "text": [
            "TRAIN size: 351\n",
            "VAL size: 117\n",
            "TEST size: 117\n"
          ]
        }
      ],
      "source": [
        "train_df, test_df = train_test_split(df, test_size=0.20, random_state=SEED,\n",
        "                                         stratify=df['label'])\n",
        "train_df, val_df = train_test_split(train_df, test_size=0.25, random_state=SEED,\n",
        "                                        stratify=train_df['label'])\n",
        "\n",
        "\n",
        "print(\"TRAIN size:\", len(train_df))\n",
        "print(\"VAL size:\", len(val_df))\n",
        "print(\"TEST size:\", len(test_df))\n",
        "\n",
        "train_dataset = HeartSoundDataset(train_df, sr=4000, n_mfcc=40)\n",
        "val_dataset   = HeartSoundDataset(val_df,   sr=4000, n_mfcc=40)\n",
        "test_dataset  = HeartSoundDataset(test_df,  sr=4000, n_mfcc=40)\n",
        "\n",
        "batch_size = 16\n",
        "train_loader = DataLoader(train_dataset, batch_size=batch_size, shuffle=True)\n",
        "val_loader   = DataLoader(val_dataset,   batch_size=batch_size, shuffle=False)\n",
        "test_loader  = DataLoader(test_dataset,  batch_size=batch_size, shuffle=False)\n",
        "\n"
      ]
    },
    {
      "cell_type": "code",
      "execution_count": 86,
      "metadata": {
        "colab": {
          "base_uri": "https://localhost:8080/",
          "height": 532
        },
        "id": "Jz-jr-rqXETs",
        "outputId": "8cce111c-78b9-47c4-ea51-4b6839d9f802"
      },
      "outputs": [
        {
          "data": {
            "image/png": "[encoded data removed]",
            "text/plain": [
              "<Figure size 800x500 with 1 Axes>"
            ]
          },
          "metadata": {},
          "output_type": "display_data"
        }
      ],
      "source": [
        "# Label Distribution\n",
        "plt.figure(figsize=(8, 5))\n",
        "df['label'].value_counts().plot(kind='bar', color='skyblue', edgecolor='black')\n",
        "plt.title('Distribution of Labels')\n",
        "plt.xlabel('Heart Sound Labels')\n",
        "plt.ylabel('Count')\n",
        "plt.xticks(rotation=45)\n",
        "plt.show()"
      ]
    },
    {
      "cell_type": "markdown",
      "metadata": {
        "id": "GsmDlfARBdRk"
      },
      "source": [
        "\n",
        "################################################################################\n",
        "# 5. BUILDING THE CNN FEATURE EXTRACTOR\n",
        "################################################################################\n"
      ]
    },
    {
      "cell_type": "code",
      "execution_count": 87,
      "metadata": {
        "id": "9ZUXcVYCByDy"
      },
      "outputs": [],
      "source": [
        "\n",
        "class CNNFeatureExtractor(nn.Module):\n",
        "    def __init__(self):\n",
        "        super(CNNFeatureExtractor, self).__init__()\n",
        "        # Input shape: [batch_size, 1, n_mfcc, time_frames]\n",
        "        self.conv1 = nn.Conv2d(1, 16, kernel_size=3, padding=1)\n",
        "        self.bn1   = nn.BatchNorm2d(16)\n",
        "        self.pool1 = nn.MaxPool2d((2, 2))\n",
        "        self.conv2 = nn.Conv2d(16, 32, kernel_size=3, padding=1)\n",
        "        self.bn2   = nn.BatchNorm2d(32)\n",
        "        self.pool2 = nn.MaxPool2d((2, 2))\n",
        "\n",
        "    def forward(self, x):\n",
        "        # x: [B, 1, n_mfcc, time_frames]\n",
        "        x = self.pool1(torch.relu(self.bn1(self.conv1(x))))  # -> [B, 16, n_mfcc/2, time_frames/2]\n",
        "        x = self.pool2(torch.relu(self.bn2(self.conv2(x))))  # -> [B, 32, n_mfcc/4, time_frames/4]\n",
        "        return x\n",
        "\n"
      ]
    },
    {
      "cell_type": "markdown",
      "metadata": {
        "id": "u3AsuRaiVvub"
      },
      "source": [
        "I designed a two-part model:\n",
        "1. **CNN**: Extracts short-term patterns from the MFCCs.\n",
        "2. **RNN**: Understands how these patterns evolve over time.\n",
        "Heart sounds have patterns that change over time. The CNN captures local details, while the RNN models the sequential nature of the sound.\n"
      ]
    },
    {
      "cell_type": "markdown",
      "metadata": {
        "id": "bt4RSoaWBzIC"
      },
      "source": [
        "################################################################################\n",
        "# 6. RNN CLASSIFIERS (Simple RNN, LSTM, Bi-LSTM, GRU, xLSTM placeholders)\n",
        "################################################################################"
      ]
    },
    {
      "cell_type": "code",
      "execution_count": 88,
      "metadata": {
        "id": "FmEm-vWNCTYm"
      },
      "outputs": [],
      "source": [
        "class SimpleRNNClassifier(nn.Module):\n",
        "    def __init__(self, cnn_feature_extractor, hidden_size, num_classes):\n",
        "        super(SimpleRNNClassifier, self).__init__()\n",
        "        self.cnn = cnn_feature_extractor\n",
        "        self.hidden_size = hidden_size\n",
        "        self.num_classes = num_classes\n",
        "        self.rnn_input_size = None\n",
        "        self.rnn = nn.RNN(1, hidden_size, batch_first=True)\n",
        "        self.fc = nn.Linear(hidden_size, num_classes)\n",
        "\n",
        "    def forward(self, x):\n",
        "        # x: [B, 1, n_mfcc, time_frames]\n",
        "\n",
        "        x = self.cnn(x)\n",
        "        b, c, f, t = x.shape\n",
        "        x = x.view(b, c*f, t)  # [B, 32*freq_down, time_down]\n",
        "        x = x.permute(0, 2, 1) # [B, time_down, 32*freq_down]\n",
        "\n",
        "        # input_size = 32*freq_down\n",
        "        if self.rnn_input_size is None:\n",
        "            self.rnn_input_size = c*f\n",
        "            self.rnn = nn.RNN(self.rnn_input_size, self.hidden_size, batch_first=True).to(device)\n",
        "\n",
        "        out, h_n = self.rnn(x)\n",
        "        final_out = h_n[-1]\n",
        "        logits = self.fc(final_out)\n",
        "        return logits\n",
        "\n",
        "\n",
        "class LSTMClassifier(nn.Module):\n",
        "    def __init__(self, cnn_feature_extractor, hidden_size, num_classes, bidirectional=False):\n",
        "        super(LSTMClassifier, self).__init__()\n",
        "        self.cnn = cnn_feature_extractor\n",
        "        self.hidden_size = hidden_size\n",
        "        self.num_classes = num_classes\n",
        "        self.bidirectional = bidirectional\n",
        "        self.rnn_input_size = None\n",
        "        self.lstm = nn.LSTM(1, hidden_size, batch_first=True, bidirectional=bidirectional)\n",
        "        self.fc = nn.Linear(hidden_size * (2 if bidirectional else 1), num_classes)\n",
        "\n",
        "    def forward(self, x):\n",
        "        x = self.cnn(x)\n",
        "        b, c, f, t = x.shape\n",
        "        x = x.view(b, c*f, t).permute(0, 2, 1)\n",
        "        if self.rnn_input_size is None:\n",
        "            self.rnn_input_size = c*f\n",
        "            self.lstm = nn.LSTM(self.rnn_input_size, self.hidden_size,\n",
        "                                batch_first=True, bidirectional=self.bidirectional).to(device)\n",
        "\n",
        "        out, (h_n, c_n) = self.lstm(x)\n",
        "        if self.bidirectional:\n",
        "            final_out = torch.cat((h_n[-2], h_n[-1]), dim=1)\n",
        "        else:\n",
        "            final_out = h_n[-1]\n",
        "        logits = self.fc(final_out)\n",
        "        return logits\n",
        "\n",
        "\n",
        "class GRUClassifier(nn.Module):\n",
        "    def __init__(self, cnn_feature_extractor, hidden_size, num_classes, bidirectional=False):\n",
        "        super(GRUClassifier, self).__init__()\n",
        "        self.cnn = cnn_feature_extractor\n",
        "        self.hidden_size = hidden_size\n",
        "        self.num_classes = num_classes\n",
        "        self.bidirectional = bidirectional\n",
        "\n",
        "        self.rnn_input_size = None\n",
        "        self.gru = nn.GRU(1, hidden_size, batch_first=True, bidirectional=bidirectional)\n",
        "        self.fc = nn.Linear(hidden_size * (2 if bidirectional else 1), num_classes)\n",
        "\n",
        "    def forward(self, x):\n",
        "        x = self.cnn(x)\n",
        "        b, c, f, t = x.shape\n",
        "        x = x.view(b, c*f, t).permute(0, 2, 1)\n",
        "\n",
        "        if self.rnn_input_size is None:\n",
        "            self.rnn_input_size = c*f\n",
        "            self.gru = nn.GRU(self.rnn_input_size, self.hidden_size,\n",
        "                              batch_first=True, bidirectional=self.bidirectional).to(device)\n",
        "\n",
        "        out, h_n = self.gru(x)\n",
        "        if self.bidirectional:\n",
        "            final_out = torch.cat((h_n[-2], h_n[-1]), dim=1)\n",
        "        else:\n",
        "            final_out = h_n[-1]\n",
        "        logits = self.fc(final_out)\n",
        "        return logits\n",
        "\n",
        "class xLSTMClassifier(nn.Module):\n",
        "    def __init__(self, cnn_feature_extractor, hidden_size, num_classes):\n",
        "        super(xLSTMClassifier, self).__init__()\n",
        "        self.cnn = cnn_feature_extractor\n",
        "        self.lstm = nn.LSTM(1, hidden_size, batch_first=True)\n",
        "        self.hidden_size = hidden_size\n",
        "        self.num_classes = num_classes\n",
        "        self.fc   = nn.Linear(hidden_size, num_classes)\n",
        "\n",
        "    def forward(self, x):\n",
        "        x = self.cnn(x)\n",
        "        b, c, f, t = x.shape\n",
        "        x = x.view(b, c*f, t).permute(0, 2, 1)\n",
        "        out, (h_n, c_n) = self.lstm(x)\n",
        "        final_out = h_n[-1]\n",
        "        logits = self.fc(final_out)\n",
        "        return logits\n"
      ]
    },
    {
      "cell_type": "markdown",
      "metadata": {
        "id": "l7PGcNLMV2zE"
      },
      "source": [
        "I tested different RNN types:\n",
        "- **Simple RNN**: Basic approach to process sequences.\n",
        "- **LSTM**: Captures long-term dependencies better than Simple RNN.\n",
        "- **Bi-LSTM**: Processes sequences both forward and backward for more context.\n",
        "- **GRU**: A lighter, faster alternative to LSTM.\n",
        "- **xLSTM**: A conceptual advanced version of LSTM.\n",
        "Each RNN type has strengths and weaknesses. Testing multiple types helps find the best fit for the dataset.\n"
      ]
    },
    {
      "cell_type": "markdown",
      "metadata": {
        "id": "KjXUlgTMCqVa"
      },
      "source": [
        "################################################################################\n",
        "# 7. TRAINING & EVALUATION UTILITIES\n",
        "################################################################################\n"
      ]
    },
    {
      "cell_type": "code",
      "execution_count": 89,
      "metadata": {
        "id": "8ypgz1dmCvUE"
      },
      "outputs": [],
      "source": [
        "def train_model(model, train_loader, val_loader, epochs=10, lr=1e-3):\n",
        "    model = model.to(device)\n",
        "    criterion = nn.CrossEntropyLoss()\n",
        "    optimizer = optim.Adam(model.parameters(), lr=lr)\n",
        "\n",
        "    for epoch in range(epochs):\n",
        "        model.train()\n",
        "        running_loss = 0.0\n",
        "        for batch_data, batch_labels in train_loader:\n",
        "            batch_data = batch_data.unsqueeze(1).to(device)  # [B, 1, n_mfcc, time_frames]\n",
        "            batch_labels = batch_labels.to(device)\n",
        "\n",
        "            optimizer.zero_grad()\n",
        "            outputs = model(batch_data)\n",
        "            loss = criterion(outputs, batch_labels)\n",
        "            loss.backward()\n",
        "            optimizer.step()\n",
        "            running_loss += loss.item()\n",
        "\n",
        "        # Validation\n",
        "        model.eval()\n",
        "        val_preds = []\n",
        "        val_trues = []\n",
        "        with torch.no_grad():\n",
        "            for val_data, val_labels in val_loader:\n",
        "                val_data = val_data.unsqueeze(1).to(device)\n",
        "                val_labels = val_labels.to(device)\n",
        "\n",
        "                val_out = model(val_data)\n",
        "                _, predicted = torch.max(val_out, 1)\n",
        "                val_preds.extend(predicted.cpu().numpy())\n",
        "                val_trues.extend(val_labels.cpu().numpy())\n",
        "\n",
        "        epoch_loss = running_loss / len(train_loader)\n",
        "        epoch_acc  = accuracy_score(val_trues, val_preds)\n",
        "\n",
        "        print(f\"Epoch [{epoch+1}/{epochs}] - Loss: {epoch_loss:.4f} - Val Accuracy: {epoch_acc:.4f}\")\n",
        "\n",
        "    return model\n",
        "\n",
        "def evaluate_model(model, data_loader):\n",
        "    model.eval()\n",
        "    all_preds = []\n",
        "    all_trues = []\n",
        "    with torch.no_grad():\n",
        "        for data, labels in data_loader:\n",
        "            data = data.unsqueeze(1).to(device)\n",
        "            labels = labels.to(device)\n",
        "            outputs = model(data)\n",
        "            _, predicted = torch.max(outputs, 1)\n",
        "            all_preds.extend(predicted.cpu().numpy())\n",
        "            all_trues.extend(labels.cpu().numpy())\n",
        "\n",
        "    acc = accuracy_score(all_trues, all_preds)\n",
        "    print(\"Accuracy:\", acc)\n",
        "    print(\"Classification Report:\\n\", classification_report(all_trues, all_preds))\n",
        "    print(\"Confusion Matrix:\\n\", confusion_matrix(all_trues, all_preds))\n"
      ]
    },
    {
      "cell_type": "markdown",
      "metadata": {
        "id": "Rc1KsTFDCxF4"
      },
      "source": [
        "################################################################################\n",
        "# 8. TRAIN BASELINE MODEL (CNN + SIMPLE RNN)\n",
        "################################################################################\n"
      ]
    },
    {
      "cell_type": "code",
      "execution_count": 90,
      "metadata": {
        "colab": {
          "base_uri": "https://localhost:8080/"
        },
        "id": "vhPGCPH-DBa3",
        "outputId": "9003a791-f00d-4806-9055-f80c9be2ddb7"
      },
      "outputs": [
        {
          "name": "stdout",
          "output_type": "stream",
          "text": [
            "==== Training Baseline CNN + SimpleRNN ====\n",
            "Epoch [1/10] - Loss: 1.2447 - Val Accuracy: 0.5983\n",
            "Epoch [2/10] - Loss: 1.0551 - Val Accuracy: 0.6154\n",
            "Epoch [3/10] - Loss: 1.0172 - Val Accuracy: 0.6154\n",
            "Epoch [4/10] - Loss: 0.9693 - Val Accuracy: 0.6239\n",
            "Epoch [5/10] - Loss: 0.9360 - Val Accuracy: 0.6325\n",
            "Epoch [6/10] - Loss: 0.9123 - Val Accuracy: 0.6410\n",
            "Epoch [7/10] - Loss: 0.8958 - Val Accuracy: 0.6752\n",
            "Epoch [8/10] - Loss: 0.8581 - Val Accuracy: 0.6496\n",
            "Epoch [9/10] - Loss: 0.8382 - Val Accuracy: 0.6496\n",
            "Epoch [10/10] - Loss: 0.8449 - Val Accuracy: 0.6581\n",
            "==== Evaluation on Test Set (Baseline) ====\n",
            "Accuracy: 0.6324786324786325\n",
            "Classification Report:\n",
            "               precision    recall  f1-score   support\n",
            "\n",
            "           0       0.80      0.50      0.62         8\n",
            "           1       0.00      0.00      0.00         4\n",
            "           2       0.00      0.00      0.00         9\n",
            "           3       1.00      0.04      0.07        26\n",
            "           4       0.62      0.99      0.76        70\n",
            "\n",
            "    accuracy                           0.63       117\n",
            "   macro avg       0.48      0.30      0.29       117\n",
            "weighted avg       0.65      0.63      0.51       117\n",
            "\n",
            "Confusion Matrix:\n",
            " [[ 4  0  0  0  4]\n",
            " [ 0  0  0  0  4]\n",
            " [ 0  0  0  0  9]\n",
            " [ 0  0  0  1 25]\n",
            " [ 1  0  0  0 69]]\n"
          ]
        }
      ],
      "source": [
        "print(\"==== Training Baseline CNN + SimpleRNN ====\")\n",
        "cnn_extractor = CNNFeatureExtractor()\n",
        "baseline_rnn_model = SimpleRNNClassifier(cnn_extractor, hidden_size=64, num_classes=5)\n",
        "baseline_rnn_model = train_model(baseline_rnn_model, train_loader, val_loader, epochs=10, lr=1e-3)\n",
        "print(\"==== Evaluation on Test Set (Baseline) ====\")\n",
        "evaluate_model(baseline_rnn_model, test_loader)\n",
        "\n",
        "class xLSTMClassifier(nn.Module):\n",
        "    def __init__(self, cnn_feature_extractor, hidden_size, num_classes):\n",
        "        super(xLSTMClassifier, self).__init__()\n",
        "        self.cnn = cnn_feature_extractor\n",
        "        self.hidden_size = hidden_size\n",
        "        self.num_classes = num_classes\n",
        "        self.rnn_input_size = None\n",
        "        self.lstm = nn.LSTM(1, hidden_size, batch_first=True)\n",
        "        self.fc   = nn.Linear(hidden_size, num_classes)\n",
        "\n",
        "    def forward(self, x):\n",
        "        x = self.cnn(x)  # shape: [B, C, F, T]\n",
        "        b, c, f, t = x.shape\n",
        "        x = x.view(b, c*f, t)      # shape: [B, C*F, T]\n",
        "        x = x.permute(0, 2, 1)     # shape: [B, T, C*F] (B=Batch, T=Time, input_size= C*F)\n",
        "        if self.rnn_input_size is None:\n",
        "            self.rnn_input_size = c*f\n",
        "            self.lstm = nn.LSTM(self.rnn_input_size, self.hidden_size, batch_first=True).to(x.device)\n",
        "        out, (h_n, c_n) = self.lstm(x)\n",
        "        final_out = h_n[-1]\n",
        "        logits = self.fc(final_out)\n",
        "        return logits\n"
      ]
    },
    {
      "cell_type": "markdown",
      "metadata": {
        "id": "QSuAesEeDChd"
      },
      "source": [
        "################################################################################\n",
        "# 9. TRAIN ADVANCED MODELS (LSTM, Bi-LSTM, GRU, xLSTM)\n",
        "################################################################################"
      ]
    },
    {
      "cell_type": "code",
      "execution_count": 91,
      "metadata": {
        "colab": {
          "base_uri": "https://localhost:8080/"
        },
        "id": "tUCi5A6zDWwB",
        "outputId": "196c76b7-d4dd-4674-802d-8b633bafd47c"
      },
      "outputs": [
        {
          "name": "stdout",
          "output_type": "stream",
          "text": [
            "\n",
            "==== Training CNN + LSTM ====\n",
            "Epoch [1/10] - Loss: 1.2939 - Val Accuracy: 0.6068\n",
            "Epoch [2/10] - Loss: 1.0928 - Val Accuracy: 0.6068\n",
            "Epoch [3/10] - Loss: 1.0438 - Val Accuracy: 0.6068\n",
            "Epoch [4/10] - Loss: 1.0035 - Val Accuracy: 0.6154\n",
            "Epoch [5/10] - Loss: 0.9676 - Val Accuracy: 0.6239\n",
            "Epoch [6/10] - Loss: 0.9299 - Val Accuracy: 0.6410\n",
            "Epoch [7/10] - Loss: 0.8927 - Val Accuracy: 0.6496\n",
            "Epoch [8/10] - Loss: 0.8614 - Val Accuracy: 0.6667\n",
            "Epoch [9/10] - Loss: 0.8355 - Val Accuracy: 0.6581\n",
            "Epoch [10/10] - Loss: 0.8125 - Val Accuracy: 0.6667\n",
            "==== Evaluation on Test Set (LSTM) ====\n",
            "Accuracy: 0.6581196581196581\n",
            "Classification Report:\n",
            "               precision    recall  f1-score   support\n",
            "\n",
            "           0       0.80      0.50      0.62         8\n",
            "           1       0.00      0.00      0.00         4\n",
            "           2       0.00      0.00      0.00         9\n",
            "           3       1.00      0.15      0.27        26\n",
            "           4       0.64      0.99      0.78        70\n",
            "\n",
            "    accuracy                           0.66       117\n",
            "   macro avg       0.49      0.33      0.33       117\n",
            "weighted avg       0.66      0.66      0.57       117\n",
            "\n",
            "Confusion Matrix:\n",
            " [[ 4  0  0  0  4]\n",
            " [ 0  0  0  0  4]\n",
            " [ 0  0  0  0  9]\n",
            " [ 0  0  0  4 22]\n",
            " [ 1  0  0  0 69]]\n",
            "\n",
            "==== Training CNN + Bi-LSTM ====\n",
            "Epoch [1/10] - Loss: 1.2896 - Val Accuracy: 0.5983\n",
            "Epoch [2/10] - Loss: 1.0800 - Val Accuracy: 0.5983\n",
            "Epoch [3/10] - Loss: 1.0194 - Val Accuracy: 0.6068\n",
            "Epoch [4/10] - Loss: 0.9715 - Val Accuracy: 0.6154\n",
            "Epoch [5/10] - Loss: 0.9321 - Val Accuracy: 0.6325\n",
            "Epoch [6/10] - Loss: 0.8981 - Val Accuracy: 0.6325\n",
            "Epoch [7/10] - Loss: 0.8680 - Val Accuracy: 0.6410\n",
            "Epoch [8/10] - Loss: 0.8408 - Val Accuracy: 0.6496\n",
            "Epoch [9/10] - Loss: 0.8105 - Val Accuracy: 0.6496\n",
            "Epoch [10/10] - Loss: 0.7924 - Val Accuracy: 0.6496\n",
            "==== Evaluation on Test Set (Bi-LSTM) ====\n",
            "Accuracy: 0.6837606837606838\n",
            "Classification Report:\n",
            "               precision    recall  f1-score   support\n",
            "\n",
            "           0       0.78      0.88      0.82         8\n",
            "           1       0.00      0.00      0.00         4\n",
            "           2       0.00      0.00      0.00         9\n",
            "           3       1.00      0.19      0.32        26\n",
            "           4       0.66      0.97      0.79        70\n",
            "\n",
            "    accuracy                           0.68       117\n",
            "   macro avg       0.49      0.41      0.39       117\n",
            "weighted avg       0.67      0.68      0.60       117\n",
            "\n",
            "Confusion Matrix:\n",
            " [[ 7  0  0  0  1]\n",
            " [ 0  0  0  0  4]\n",
            " [ 0  0  0  0  9]\n",
            " [ 0  0  0  5 21]\n",
            " [ 2  0  0  0 68]]\n",
            "\n",
            "==== Training CNN + xLSTM (Conceptual) ====\n",
            "Epoch [1/10] - Loss: 1.3368 - Val Accuracy: 0.5983\n",
            "Epoch [2/10] - Loss: 1.1417 - Val Accuracy: 0.5983\n",
            "Epoch [3/10] - Loss: 1.0833 - Val Accuracy: 0.5983\n",
            "Epoch [4/10] - Loss: 1.0425 - Val Accuracy: 0.6154\n",
            "Epoch [5/10] - Loss: 0.9966 - Val Accuracy: 0.6154\n",
            "Epoch [6/10] - Loss: 0.9630 - Val Accuracy: 0.6154\n",
            "Epoch [7/10] - Loss: 0.9359 - Val Accuracy: 0.6410\n",
            "Epoch [8/10] - Loss: 0.9050 - Val Accuracy: 0.6496\n",
            "Epoch [9/10] - Loss: 0.8842 - Val Accuracy: 0.6581\n",
            "Epoch [10/10] - Loss: 0.8723 - Val Accuracy: 0.6581\n",
            "==== Evaluation on Test Set (xLSTM) ====\n",
            "Accuracy: 0.6324786324786325\n",
            "Classification Report:\n",
            "               precision    recall  f1-score   support\n",
            "\n",
            "           0       0.80      0.50      0.62         8\n",
            "           1       0.00      0.00      0.00         4\n",
            "           2       0.00      0.00      0.00         9\n",
            "           3       1.00      0.04      0.07        26\n",
            "           4       0.62      0.99      0.76        70\n",
            "\n",
            "    accuracy                           0.63       117\n",
            "   macro avg       0.48      0.30      0.29       117\n",
            "weighted avg       0.65      0.63      0.51       117\n",
            "\n",
            "Confusion Matrix:\n",
            " [[ 4  0  0  0  4]\n",
            " [ 0  0  0  0  4]\n",
            " [ 0  0  0  0  9]\n",
            " [ 0  0  0  1 25]\n",
            " [ 1  0  0  0 69]]\n",
            "\n",
            "==== Training CNN + GRU ====\n",
            "Epoch [1/10] - Loss: 1.2124 - Val Accuracy: 0.5983\n",
            "Epoch [2/10] - Loss: 1.0293 - Val Accuracy: 0.6154\n",
            "Epoch [3/10] - Loss: 0.9746 - Val Accuracy: 0.6154\n",
            "Epoch [4/10] - Loss: 0.9264 - Val Accuracy: 0.6410\n",
            "Epoch [5/10] - Loss: 0.8922 - Val Accuracy: 0.6496\n",
            "Epoch [6/10] - Loss: 0.8561 - Val Accuracy: 0.6496\n",
            "Epoch [7/10] - Loss: 0.8376 - Val Accuracy: 0.6667\n",
            "Epoch [8/10] - Loss: 0.8206 - Val Accuracy: 0.6667\n",
            "Epoch [9/10] - Loss: 0.7869 - Val Accuracy: 0.7094\n",
            "Epoch [10/10] - Loss: 0.7661 - Val Accuracy: 0.6752\n",
            "==== Evaluation on Test Set (GRU) ====\n",
            "Accuracy: 0.6581196581196581\n",
            "Classification Report:\n",
            "               precision    recall  f1-score   support\n",
            "\n",
            "           0       1.00      0.25      0.40         8\n",
            "           1       0.00      0.00      0.00         4\n",
            "           2       0.00      0.00      0.00         9\n",
            "           3       0.86      0.23      0.36        26\n",
            "           4       0.64      0.99      0.78        70\n",
            "\n",
            "    accuracy                           0.66       117\n",
            "   macro avg       0.50      0.29      0.31       117\n",
            "weighted avg       0.64      0.66      0.57       117\n",
            "\n",
            "Confusion Matrix:\n",
            " [[ 2  0  0  0  6]\n",
            " [ 0  0  0  0  4]\n",
            " [ 0  0  0  0  9]\n",
            " [ 0  0  0  6 20]\n",
            " [ 0  0  0  1 69]]\n"
          ]
        }
      ],
      "source": [
        "# LSTM\n",
        "print(\"\\n==== Training CNN + LSTM ====\")\n",
        "cnn_extractor_lstm = CNNFeatureExtractor()\n",
        "lstm_model = LSTMClassifier(cnn_extractor_lstm, hidden_size=64, num_classes=5, bidirectional=False)\n",
        "lstm_model = train_model(lstm_model, train_loader, val_loader, epochs=10, lr=1e-3)\n",
        "print(\"==== Evaluation on Test Set (LSTM) ====\")\n",
        "evaluate_model(lstm_model, test_loader)\n",
        "\n",
        "# Bi-LSTM\n",
        "print(\"\\n==== Training CNN + Bi-LSTM ====\")\n",
        "cnn_extractor_bilstm = CNNFeatureExtractor()\n",
        "bilstm_model = LSTMClassifier(cnn_extractor_bilstm, hidden_size=64, num_classes=5, bidirectional=True)\n",
        "bilstm_model = train_model(bilstm_model, train_loader, val_loader, epochs=10, lr=1e-3)\n",
        "print(\"==== Evaluation on Test Set (Bi-LSTM) ====\")\n",
        "evaluate_model(bilstm_model, test_loader)\n",
        "\n",
        "# xLSTM (Placeholder)\n",
        "print(\"\\n==== Training CNN + xLSTM (Conceptual) ====\")\n",
        "cnn_extractor_xlstm = CNNFeatureExtractor()\n",
        "xlstm_model = xLSTMClassifier(cnn_extractor_xlstm, hidden_size=64, num_classes=5)\n",
        "xlstm_model = train_model(xlstm_model, train_loader, val_loader, epochs=10, lr=1e-3)\n",
        "print(\"==== Evaluation on Test Set (xLSTM) ====\")\n",
        "evaluate_model(xlstm_model, test_loader)\n",
        "\n",
        "# GRU\n",
        "print(\"\\n==== Training CNN + GRU ====\")\n",
        "cnn_extractor_gru = CNNFeatureExtractor()\n",
        "gru_model = GRUClassifier(cnn_extractor_gru, hidden_size=64, num_classes=5, bidirectional=False)\n",
        "gru_model = train_model(gru_model, train_loader, val_loader, epochs=10, lr=1e-3)\n",
        "print(\"==== Evaluation on Test Set (GRU) ====\")\n",
        "evaluate_model(gru_model, test_loader)\n"
      ]
    },
    {
      "cell_type": "markdown",
      "metadata": {
        "id": "bAjrLCwdWLA4"
      },
      "source": [
        "I trained the models using:\n",
        "- **Loss Function**: CrossEntropyLoss to measure classification errors.\n",
        "- **Optimizer**: Adam for efficient gradient updates.\n",
        "- **Data Split**: Divided data into train, validation, and test sets.\n",
        "- **Epochs**: Trained for 10–20 epochs, stopping early if performance stopped improving.\n",
        "\n",
        "These are standard training practices that ensure the model learns effectively while avoiding overfitting.\n"
      ]
    },
    {
      "cell_type": "markdown",
      "metadata": {
        "id": "XGhdILL0DZU7"
      },
      "source": [
        "################################################################################\n",
        "# 10. LSTM WITH ATTENTION\n",
        "################################################################################"
      ]
    },
    {
      "cell_type": "code",
      "execution_count": 92,
      "metadata": {
        "colab": {
          "base_uri": "https://localhost:8080/"
        },
        "id": "Q4b9p65N-Y4z",
        "outputId": "9136cb33-0132-411b-e7ff-1dbf71336cd6"
      },
      "outputs": [
        {
          "name": "stdout",
          "output_type": "stream",
          "text": [
            "\n",
            "==== Training CNN + LSTM + Attention ====\n",
            "Epoch [1/10] - Loss: 1.2949 - Val Accuracy: 0.5983\n",
            "Epoch [2/10] - Loss: 1.1217 - Val Accuracy: 0.5983\n",
            "Epoch [3/10] - Loss: 1.0464 - Val Accuracy: 0.5983\n",
            "Epoch [4/10] - Loss: 0.9933 - Val Accuracy: 0.6239\n",
            "Epoch [5/10] - Loss: 0.9535 - Val Accuracy: 0.6239\n",
            "Epoch [6/10] - Loss: 0.9131 - Val Accuracy: 0.6410\n",
            "Epoch [7/10] - Loss: 0.8818 - Val Accuracy: 0.6496\n",
            "Epoch [8/10] - Loss: 0.8517 - Val Accuracy: 0.6496\n",
            "Epoch [9/10] - Loss: 0.8371 - Val Accuracy: 0.6581\n",
            "Epoch [10/10] - Loss: 0.8077 - Val Accuracy: 0.6923\n",
            "==== Evaluation on Test Set (LSTM + Attention) ====\n",
            "Accuracy: 0.6752136752136753\n",
            "Classification Report:\n",
            "               precision    recall  f1-score   support\n",
            "\n",
            "           0       0.78      0.88      0.82         8\n",
            "           1       0.00      0.00      0.00         4\n",
            "           2       0.00      0.00      0.00         9\n",
            "           3       0.83      0.19      0.31        26\n",
            "           4       0.66      0.96      0.78        70\n",
            "\n",
            "    accuracy                           0.68       117\n",
            "   macro avg       0.45      0.40      0.38       117\n",
            "weighted avg       0.63      0.68      0.59       117\n",
            "\n",
            "Confusion Matrix:\n",
            " [[ 7  0  0  0  1]\n",
            " [ 0  0  0  0  4]\n",
            " [ 0  0  0  0  9]\n",
            " [ 0  0  0  5 21]\n",
            " [ 2  0  0  1 67]]\n"
          ]
        }
      ],
      "source": [
        "class LSTMAttentionClassifier(nn.Module):\n",
        "    def __init__(self, cnn_feature_extractor, hidden_size, num_classes):\n",
        "        super(LSTMAttentionClassifier, self).__init__()\n",
        "        self.cnn = cnn_feature_extractor\n",
        "        self.hidden_size = hidden_size\n",
        "        self.num_classes = num_classes\n",
        "\n",
        "        self.rnn_input_size = None\n",
        "        self.lstm = nn.LSTM(1, hidden_size, batch_first=True)\n",
        "        self.attn_w = nn.Linear(hidden_size, hidden_size)\n",
        "        self.attn_v = nn.Linear(hidden_size, 1)\n",
        "        self.fc     = nn.Linear(hidden_size, num_classes)\n",
        "\n",
        "    def forward(self, x):\n",
        "        x = self.cnn(x)  # [B, 32, freq_down, time_down]\n",
        "        b, c, f, t = x.shape\n",
        "        x = x.view(b, c*f, t).permute(0, 2, 1)\n",
        "\n",
        "        if self.rnn_input_size is None:\n",
        "            self.rnn_input_size = c*f\n",
        "            self.lstm = nn.LSTM(self.rnn_input_size, self.hidden_size, batch_first=True).to(device)\n",
        "\n",
        "        # LSTM\n",
        "        lstm_out, (h_n, c_n) = self.lstm(x)  # [B, T, H]\n",
        "        # [B, T, 1]\n",
        "        attn_scores = self.attn_v(torch.tanh(self.attn_w(lstm_out)))\n",
        "        # [B, T, 1]\n",
        "        attn_weights = torch.softmax(attn_scores, dim=1)\n",
        "        # [B, H]\n",
        "        context = torch.sum(attn_weights * lstm_out, dim=1)\n",
        "\n",
        "        logits = self.fc(context)\n",
        "        return logits\n",
        "\n",
        "\n",
        "print(\"\\n==== Training CNN + LSTM + Attention ====\")\n",
        "cnn_extractor_attn = CNNFeatureExtractor()\n",
        "attn_model = LSTMAttentionClassifier(cnn_extractor_attn, hidden_size=64, num_classes=5)\n",
        "attn_model = train_model(attn_model, train_loader, val_loader, epochs=10, lr=1e-3)\n",
        "print(\"==== Evaluation on Test Set (LSTM + Attention) ====\")\n",
        "evaluate_model(attn_model, test_loader)"
      ]
    },
    {
      "cell_type": "markdown",
      "metadata": {
        "id": "5jHddrAJWVIa"
      },
      "source": [
        "- Simple RNN was less effective.\n",
        "- LSTM and GRU captured long-term dependencies better.\n",
        "- Bi-LSTM benefited from looking at sequences in both directions.\n",
        "- Attention helped focus on key parts of the sound, boosting performance.\n",
        "\n",
        "This analysis helps me understand why certain models perform better and provides insights for future improvements.\n"
      ]
    },
    {
      "cell_type": "markdown",
      "metadata": {
        "id": "7282-PPyWCsi"
      },
      "source": [
        "I added a soft attention layer to LSTM. This mechanism assigns weights to different parts of the sequence, helping the model focus on critical heart sound segments.\n",
        "\n",
        "\n",
        "Attention improves both accuracy and interpretability by highlighting which parts of the sound are most important for classification.\n"
      ]
    },
    {
      "cell_type": "markdown",
      "metadata": {
        "id": "ppJ06EFhRBbo"
      },
      "source": [
        "# **Heart Sound Classification: Report**\n",
        "\n",
        "## **1. Introduction**\n",
        "\n",
        "We want to recognize different types of heart sounds using the **Pascal Heart Sound Dataset**.  \n",
        "There are **5** sound types:\n",
        "\n",
        "1. **Normal**  \n",
        "2. **Murmur**  \n",
        "3. **Extra Heart Sound**  \n",
        "4. **Artifact**  \n",
        "5. **Extrasystole**\n",
        "\n",
        "This dataset is made by combining:\n",
        "\n",
        "- **Dataset A**: Public recordings from iStethoscope Pro  \n",
        "- **Dataset B**: Hospital recordings from DigiScope  \n",
        "\n",
        "Goal is to build a model that classifies each recording into one of these five categories.\n",
        "\n",
        "---\n",
        "\n",
        "## **2. Preprocessing**\n",
        "\n",
        "1. **Denoising**  \n",
        "   - Remove background noise to make heart sounds clearer (e.g., wavelet denoising, spectral gating).\n",
        "\n",
        "2. **Resampling**  \n",
        "   - I unify all recordings to the same sampling rate (e.g., 4000 Hz).\n",
        "\n",
        "3. **Segmentation & Padding**  \n",
        "   - Fix the length of each clip, for example, 4 seconds. If a clip is shorter, add zeros (padding).\n",
        "\n",
        "4. **Feature Extraction (MFCCs)**  \n",
        "   - Convert audio into **Mel-Frequency Cepstral Coefficients (MFCCs)**, which capture important sound features in a 2D format.\n",
        "\n",
        "---\n",
        "\n",
        "## **3. Model Architecture**\n",
        "\n",
        "### 3.1 **CNN + RNN Framework**\n",
        "\n",
        "1. **CNN (Convolutional Neural Network)**  \n",
        "   - Learns short-term time–frequency patterns in the MFCCs, treating them like images.\n",
        "\n",
        "2. **RNN (Recurrent Neural Network)**  \n",
        "   - Focuses on how these patterns evolve over time. We try different RNN cells:\n",
        "\n",
        "   - **Simple RNN**: Basic approach.  \n",
        "   - **LSTM**: Better at keeping long-term memory.  \n",
        "   - **Bi-LSTM**: Looks at signals forward and backward.  \n",
        "   - **GRU**: Similar to LSTM but fewer parameters.  \n",
        "   - **xLSTM**: An extended/custom LSTM concept.\n",
        "\n",
        "### 3.2 **Attention Mechanism **\n",
        "\n",
        "- **Attention**: Allows the model to zoom in on the most important parts of the heartbeat.  \n",
        "- LSTM with attention often boosts performance and helps us understand which parts of the audio matter most.\n",
        "\n",
        "---\n",
        "\n",
        "## **4. Training Details**\n",
        "\n",
        "- **Loss Function**: CrossEntropy (for multiple classes).  \n",
        "- **Optimizer**: Adam (learning rate around \\(1\\times10^{-3}\\)).  \n",
        "- **Data Split**: 70% Train, 15% Validation, 15% Test (or a similar ratio).  \n",
        "- **Epochs**: Usually 10–20, checking validation accuracy to stop early if needed.\n",
        "\n",
        "---\n",
        "\n",
        "## **5. Results**\n",
        "\n",
        "Measure:\n",
        "\n",
        "- **Accuracy**  \n",
        "- **Precision, Recall, F1-Score**  \n",
        "- **Confusion Matrix**  \n",
        "\n",
        "---\n",
        "\n",
        "## **6. Discussion**\n",
        "\n",
        "1. **Simple RNN**: Struggles with longer audio sequences.  \n",
        "2. **LSTM & GRU**: Capture longer relationships better, leading to improved scores.  \n",
        "3. **Bi-LSTM**: Gains context by processing sounds forward and backward.  \n",
        "4. **Attention**: Helps the model focus on key heartbeats, improving both accuracy and interpretability."
      ]
    },
    {
      "cell_type": "code",
      "execution_count": 92,
      "metadata": {
        "id": "KxgjFZBvRDHi"
      },
      "outputs": [],
      "source": []
    }
  ],
  "metadata": {
    "colab": {
      "provenance": []
    },
    "kernelspec": {
      "display_name": "Python 3",
      "name": "python3"
    },
    "language_info": {
      "name": "python"
    }
  },
  "nbformat": 4,
  "nbformat_minor": 0
}
